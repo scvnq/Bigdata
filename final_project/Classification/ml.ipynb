{
 "cells": [
  {
   "cell_type": "code",
   "execution_count": 112,
   "metadata": {},
   "outputs": [],
   "source": [
    "#To import all required modules\n",
    "from pyspark.sql import SparkSession\n",
    "from pyspark.ml.feature import VectorAssembler\n",
    "import os\n",
    "import pandas as pd\n",
    "from pyspark.ml.feature import StringIndexer\n",
    "from pyspark.sql.types import *\n",
    "from pyspark.ml.classification import NaiveBayes\n",
    "from pyspark.ml.evaluation import MulticlassClassificationEvaluator\n",
    "from pyspark.ml.classification import DecisionTreeClassifier\n",
    "from pyspark.ml.classification import RandomForestClassifier\n",
    "from pyspark.sql.functions import col, udf\n",
    "import matplotlib.pyplot as plt\n",
    "from pyspark.ml.feature import Tokenizer, RegexTokenizer\n",
    "from pyspark.ml.feature import StopWordsRemover\n",
    "from pyspark.ml.feature import CountVectorizer\n",
    "from pyspark.ml.feature import OneHotEncoder, StringIndexer, VectorAssembler\n",
    "from pyspark.ml.classification import LogisticRegression\n",
    "from pyspark.ml.evaluation import ClusteringEvaluator\n",
    "from pyspark.ml.clustering import KMeans"
   ]
  },
  {
   "cell_type": "code",
   "execution_count": 83,
   "metadata": {},
   "outputs": [],
   "source": [
    "spark = SparkSession.builder.appName(\"ml\").getOrCreate()\n"
   ]
  },
  {
   "cell_type": "code",
   "execution_count": 84,
   "metadata": {},
   "outputs": [
    {
     "output_type": "stream",
     "name": "stdout",
     "text": "The type of tweets_dataFrame is <class 'pyspark.sql.dataframe.DataFrame'>\n"
    },
    {
     "output_type": "execute_result",
     "data": {
      "text/plain": "                                                                    0  \\\n_c0                                                                 0   \ntext                Beats by Dr Dre urBeats Wired In Ear Headphone...   \nid                                                                  1   \ncategory                                                         spam   \nnumberOfAnnotators                                                  4   \n\n                                                                    1  \\\n_c0                                                                 1   \ntext                 Man it would fucking rule if we had a party t...   \nid                                                                  2   \ncategory                                                      abusive   \nnumberOfAnnotators                                                  4   \n\n                                                                    2  \n_c0                                                                 2  \ntext                It is time to draw close to Him 128591 127995 ...  \nid                                                                  3  \ncategory                                                       normal  \nnumberOfAnnotators                                                  4  ",
      "text/html": "<div>\n<style scoped>\n    .dataframe tbody tr th:only-of-type {\n        vertical-align: middle;\n    }\n\n    .dataframe tbody tr th {\n        vertical-align: top;\n    }\n\n    .dataframe thead th {\n        text-align: right;\n    }\n</style>\n<table border=\"1\" class=\"dataframe\">\n  <thead>\n    <tr style=\"text-align: right;\">\n      <th></th>\n      <th>0</th>\n      <th>1</th>\n      <th>2</th>\n    </tr>\n  </thead>\n  <tbody>\n    <tr>\n      <th>_c0</th>\n      <td>0</td>\n      <td>1</td>\n      <td>2</td>\n    </tr>\n    <tr>\n      <th>text</th>\n      <td>Beats by Dr Dre urBeats Wired In Ear Headphone...</td>\n      <td>Man it would fucking rule if we had a party t...</td>\n      <td>It is time to draw close to Him 128591 127995 ...</td>\n    </tr>\n    <tr>\n      <th>id</th>\n      <td>1</td>\n      <td>2</td>\n      <td>3</td>\n    </tr>\n    <tr>\n      <th>category</th>\n      <td>spam</td>\n      <td>abusive</td>\n      <td>normal</td>\n    </tr>\n    <tr>\n      <th>numberOfAnnotators</th>\n      <td>4</td>\n      <td>4</td>\n      <td>4</td>\n    </tr>\n  </tbody>\n</table>\n</div>"
     },
     "metadata": {},
     "execution_count": 84
    }
   ],
   "source": [
    "# Loading the dataset\n",
    "tweets_dataFrame = spark.read.load(\"dataset/tweets_dataset_v2.csv\", format=\"csv\", header=True, inferSchema=True, delimiter=\",\")\n",
    "# Check the type of tweets_dataFrame\n",
    "print(\"The type of tweets_dataFrame is\", type(tweets_dataFrame))\n",
    "#To show the first 3 rows\n",
    "pd.DataFrame(tweets_dataFrame.take(3), columns=tweets_dataFrame.columns).transpose()"
   ]
  },
  {
   "cell_type": "code",
   "execution_count": 85,
   "metadata": {},
   "outputs": [
    {
     "output_type": "stream",
     "name": "stdout",
     "text": "+---+--------+--------------------+\n| id|category|                text|\n+---+--------+--------------------+\n|  1|    spam|Beats by Dr Dre u...|\n|  2| abusive| Man it would fuc...|\n|  3|  normal|It is time to dra...|\n|  4|  normal|if you notice me ...|\n|  5|  normal|Forget unfollower...|\n+---+--------+--------------------+\nonly showing top 5 rows\n\n"
    }
   ],
   "source": [
    "#To get text, id, label attributes only\n",
    "#To create a temporary view of data frame to use with spark sql\n",
    "tweets_dataFrame.createOrReplaceTempView(\"tweets\")\n",
    "tweets_dataFrame2 = spark.sql(\"SELECT id, category, text FROM tweets WHERE (category=='spam' OR category=='abusive' OR category=='normal' OR category=='hateful')\")\n",
    "tweets_dataFrame2.show(5)"
   ]
  },
  {
   "cell_type": "code",
   "execution_count": 86,
   "metadata": {},
   "outputs": [
    {
     "output_type": "stream",
     "name": "stdout",
     "text": "id\ncategory\ntext\n"
    }
   ],
   "source": [
    "#To remove null values\n",
    "for clmx in tweets_dataFrame2.columns:\n",
    "    print(clmx)\n",
    "    tweets_dataFrame2 = tweets_dataFrame2.filter(tweets_dataFrame2[clmx].isNotNull())"
   ]
  },
  {
   "cell_type": "code",
   "execution_count": 87,
   "metadata": {},
   "outputs": [
    {
     "output_type": "stream",
     "name": "stdout",
     "text": "+--------+-----+\n|category|count|\n+--------+-----+\n|  normal|52567|\n| abusive|26823|\n|    spam|13850|\n| hateful| 4848|\n+--------+-----+\n\n"
    },
    {
     "output_type": "display_data",
     "data": {
      "text/plain": "<Figure size 432x288 with 1 Axes>",
      "image/svg+xml": "<?xml version=\"1.0\" encoding=\"utf-8\" standalone=\"no\"?>\n<!DOCTYPE svg PUBLIC \"-//W3C//DTD SVG 1.1//EN\"\n  \"http://www.w3.org/Graphics/SVG/1.1/DTD/svg11.dtd\">\n<!-- Created with matplotlib (https://matplotlib.org/) -->\n<svg height=\"263.63625pt\" version=\"1.1\" viewBox=\"0 0 408.751563 263.63625\" width=\"408.751563pt\" xmlns=\"http://www.w3.org/2000/svg\" xmlns:xlink=\"http://www.w3.org/1999/xlink\">\n <defs>\n  <style type=\"text/css\">\n*{stroke-linecap:butt;stroke-linejoin:round;}\n  </style>\n </defs>\n <g id=\"figure_1\">\n  <g id=\"patch_1\">\n   <path d=\"M 0 263.63625 \nL 408.751563 263.63625 \nL 408.751563 0 \nL 0 0 \nz\n\" style=\"fill:none;\"/>\n  </g>\n  <g id=\"axes_1\">\n   <g id=\"patch_2\">\n    <path d=\"M 66.751563 239.758125 \nL 401.551562 239.758125 \nL 401.551562 22.318125 \nL 66.751563 22.318125 \nz\n\" style=\"fill:#ffffff;\"/>\n   </g>\n   <g id=\"patch_3\">\n    <path clip-path=\"url(#pa8181e69b9)\" d=\"M 66.751563 226.168125 \nL 385.608705 226.168125 \nL 385.608705 198.988125 \nL 66.751563 198.988125 \nz\n\" style=\"fill:#008000;\"/>\n   </g>\n   <g id=\"patch_4\">\n    <path clip-path=\"url(#pa8181e69b9)\" d=\"M 66.751563 171.808125 \nL 229.452594 171.808125 \nL 229.452594 144.628125 \nL 66.751563 144.628125 \nz\n\" style=\"fill:#ff0000;\"/>\n   </g>\n   <g id=\"patch_5\">\n    <path clip-path=\"url(#pa8181e69b9)\" d=\"M 66.751563 117.448125 \nL 150.7619 117.448125 \nL 150.7619 90.268125 \nL 66.751563 90.268125 \nz\n\" style=\"fill:#0000ff;\"/>\n   </g>\n   <g id=\"patch_6\">\n    <path clip-path=\"url(#pa8181e69b9)\" d=\"M 66.751563 63.088125 \nL 96.158214 63.088125 \nL 96.158214 35.908125 \nL 66.751563 35.908125 \nz\n\" style=\"fill:#ffa500;\"/>\n   </g>\n   <g id=\"matplotlib.axis_1\">\n    <g id=\"xtick_1\">\n     <g id=\"line2d_1\">\n      <defs>\n       <path d=\"M 0 0 \nL 0 3.5 \n\" id=\"mb2e68bb62e\" style=\"stroke:#000000;stroke-width:0.8;\"/>\n      </defs>\n      <g>\n       <use style=\"stroke:#000000;stroke-width:0.8;\" x=\"66.751563\" xlink:href=\"#mb2e68bb62e\" y=\"239.758125\"/>\n      </g>\n     </g>\n     <g id=\"text_1\">\n      <!-- 0 -->\n      <defs>\n       <path d=\"M 31.78125 66.40625 \nQ 24.171875 66.40625 20.328125 58.90625 \nQ 16.5 51.421875 16.5 36.375 \nQ 16.5 21.390625 20.328125 13.890625 \nQ 24.171875 6.390625 31.78125 6.390625 \nQ 39.453125 6.390625 43.28125 13.890625 \nQ 47.125 21.390625 47.125 36.375 \nQ 47.125 51.421875 43.28125 58.90625 \nQ 39.453125 66.40625 31.78125 66.40625 \nz\nM 31.78125 74.21875 \nQ 44.046875 74.21875 50.515625 64.515625 \nQ 56.984375 54.828125 56.984375 36.375 \nQ 56.984375 17.96875 50.515625 8.265625 \nQ 44.046875 -1.421875 31.78125 -1.421875 \nQ 19.53125 -1.421875 13.0625 8.265625 \nQ 6.59375 17.96875 6.59375 36.375 \nQ 6.59375 54.828125 13.0625 64.515625 \nQ 19.53125 74.21875 31.78125 74.21875 \nz\n\" id=\"DejaVuSans-48\"/>\n      </defs>\n      <g transform=\"translate(63.570313 254.356563)scale(0.1 -0.1)\">\n       <use xlink:href=\"#DejaVuSans-48\"/>\n      </g>\n     </g>\n    </g>\n    <g id=\"xtick_2\">\n     <g id=\"line2d_2\">\n      <g>\n       <use style=\"stroke:#000000;stroke-width:0.8;\" x=\"127.408846\" xlink:href=\"#mb2e68bb62e\" y=\"239.758125\"/>\n      </g>\n     </g>\n     <g id=\"text_2\">\n      <!-- 10000 -->\n      <defs>\n       <path d=\"M 12.40625 8.296875 \nL 28.515625 8.296875 \nL 28.515625 63.921875 \nL 10.984375 60.40625 \nL 10.984375 69.390625 \nL 28.421875 72.90625 \nL 38.28125 72.90625 \nL 38.28125 8.296875 \nL 54.390625 8.296875 \nL 54.390625 0 \nL 12.40625 0 \nz\n\" id=\"DejaVuSans-49\"/>\n      </defs>\n      <g transform=\"translate(111.502596 254.356563)scale(0.1 -0.1)\">\n       <use xlink:href=\"#DejaVuSans-49\"/>\n       <use x=\"63.623047\" xlink:href=\"#DejaVuSans-48\"/>\n       <use x=\"127.246094\" xlink:href=\"#DejaVuSans-48\"/>\n       <use x=\"190.869141\" xlink:href=\"#DejaVuSans-48\"/>\n       <use x=\"254.492188\" xlink:href=\"#DejaVuSans-48\"/>\n      </g>\n     </g>\n    </g>\n    <g id=\"xtick_3\">\n     <g id=\"line2d_3\">\n      <g>\n       <use style=\"stroke:#000000;stroke-width:0.8;\" x=\"188.06613\" xlink:href=\"#mb2e68bb62e\" y=\"239.758125\"/>\n      </g>\n     </g>\n     <g id=\"text_3\">\n      <!-- 20000 -->\n      <defs>\n       <path d=\"M 19.1875 8.296875 \nL 53.609375 8.296875 \nL 53.609375 0 \nL 7.328125 0 \nL 7.328125 8.296875 \nQ 12.9375 14.109375 22.625 23.890625 \nQ 32.328125 33.6875 34.8125 36.53125 \nQ 39.546875 41.84375 41.421875 45.53125 \nQ 43.3125 49.21875 43.3125 52.78125 \nQ 43.3125 58.59375 39.234375 62.25 \nQ 35.15625 65.921875 28.609375 65.921875 \nQ 23.96875 65.921875 18.8125 64.3125 \nQ 13.671875 62.703125 7.8125 59.421875 \nL 7.8125 69.390625 \nQ 13.765625 71.78125 18.9375 73 \nQ 24.125 74.21875 28.421875 74.21875 \nQ 39.75 74.21875 46.484375 68.546875 \nQ 53.21875 62.890625 53.21875 53.421875 \nQ 53.21875 48.921875 51.53125 44.890625 \nQ 49.859375 40.875 45.40625 35.40625 \nQ 44.1875 33.984375 37.640625 27.21875 \nQ 31.109375 20.453125 19.1875 8.296875 \nz\n\" id=\"DejaVuSans-50\"/>\n      </defs>\n      <g transform=\"translate(172.15988 254.356563)scale(0.1 -0.1)\">\n       <use xlink:href=\"#DejaVuSans-50\"/>\n       <use x=\"63.623047\" xlink:href=\"#DejaVuSans-48\"/>\n       <use x=\"127.246094\" xlink:href=\"#DejaVuSans-48\"/>\n       <use x=\"190.869141\" xlink:href=\"#DejaVuSans-48\"/>\n       <use x=\"254.492188\" xlink:href=\"#DejaVuSans-48\"/>\n      </g>\n     </g>\n    </g>\n    <g id=\"xtick_4\">\n     <g id=\"line2d_4\">\n      <g>\n       <use style=\"stroke:#000000;stroke-width:0.8;\" x=\"248.723413\" xlink:href=\"#mb2e68bb62e\" y=\"239.758125\"/>\n      </g>\n     </g>\n     <g id=\"text_4\">\n      <!-- 30000 -->\n      <defs>\n       <path d=\"M 40.578125 39.3125 \nQ 47.65625 37.796875 51.625 33 \nQ 55.609375 28.21875 55.609375 21.1875 \nQ 55.609375 10.40625 48.1875 4.484375 \nQ 40.765625 -1.421875 27.09375 -1.421875 \nQ 22.515625 -1.421875 17.65625 -0.515625 \nQ 12.796875 0.390625 7.625 2.203125 \nL 7.625 11.71875 \nQ 11.71875 9.328125 16.59375 8.109375 \nQ 21.484375 6.890625 26.8125 6.890625 \nQ 36.078125 6.890625 40.9375 10.546875 \nQ 45.796875 14.203125 45.796875 21.1875 \nQ 45.796875 27.640625 41.28125 31.265625 \nQ 36.765625 34.90625 28.71875 34.90625 \nL 20.21875 34.90625 \nL 20.21875 43.015625 \nL 29.109375 43.015625 \nQ 36.375 43.015625 40.234375 45.921875 \nQ 44.09375 48.828125 44.09375 54.296875 \nQ 44.09375 59.90625 40.109375 62.90625 \nQ 36.140625 65.921875 28.71875 65.921875 \nQ 24.65625 65.921875 20.015625 65.03125 \nQ 15.375 64.15625 9.8125 62.3125 \nL 9.8125 71.09375 \nQ 15.4375 72.65625 20.34375 73.4375 \nQ 25.25 74.21875 29.59375 74.21875 \nQ 40.828125 74.21875 47.359375 69.109375 \nQ 53.90625 64.015625 53.90625 55.328125 \nQ 53.90625 49.265625 50.4375 45.09375 \nQ 46.96875 40.921875 40.578125 39.3125 \nz\n\" id=\"DejaVuSans-51\"/>\n      </defs>\n      <g transform=\"translate(232.817163 254.356563)scale(0.1 -0.1)\">\n       <use xlink:href=\"#DejaVuSans-51\"/>\n       <use x=\"63.623047\" xlink:href=\"#DejaVuSans-48\"/>\n       <use x=\"127.246094\" xlink:href=\"#DejaVuSans-48\"/>\n       <use x=\"190.869141\" xlink:href=\"#DejaVuSans-48\"/>\n       <use x=\"254.492188\" xlink:href=\"#DejaVuSans-48\"/>\n      </g>\n     </g>\n    </g>\n    <g id=\"xtick_5\">\n     <g id=\"line2d_5\">\n      <g>\n       <use style=\"stroke:#000000;stroke-width:0.8;\" x=\"309.380697\" xlink:href=\"#mb2e68bb62e\" y=\"239.758125\"/>\n      </g>\n     </g>\n     <g id=\"text_5\">\n      <!-- 40000 -->\n      <defs>\n       <path d=\"M 37.796875 64.3125 \nL 12.890625 25.390625 \nL 37.796875 25.390625 \nz\nM 35.203125 72.90625 \nL 47.609375 72.90625 \nL 47.609375 25.390625 \nL 58.015625 25.390625 \nL 58.015625 17.1875 \nL 47.609375 17.1875 \nL 47.609375 0 \nL 37.796875 0 \nL 37.796875 17.1875 \nL 4.890625 17.1875 \nL 4.890625 26.703125 \nz\n\" id=\"DejaVuSans-52\"/>\n      </defs>\n      <g transform=\"translate(293.474447 254.356563)scale(0.1 -0.1)\">\n       <use xlink:href=\"#DejaVuSans-52\"/>\n       <use x=\"63.623047\" xlink:href=\"#DejaVuSans-48\"/>\n       <use x=\"127.246094\" xlink:href=\"#DejaVuSans-48\"/>\n       <use x=\"190.869141\" xlink:href=\"#DejaVuSans-48\"/>\n       <use x=\"254.492188\" xlink:href=\"#DejaVuSans-48\"/>\n      </g>\n     </g>\n    </g>\n    <g id=\"xtick_6\">\n     <g id=\"line2d_6\">\n      <g>\n       <use style=\"stroke:#000000;stroke-width:0.8;\" x=\"370.037981\" xlink:href=\"#mb2e68bb62e\" y=\"239.758125\"/>\n      </g>\n     </g>\n     <g id=\"text_6\">\n      <!-- 50000 -->\n      <defs>\n       <path d=\"M 10.796875 72.90625 \nL 49.515625 72.90625 \nL 49.515625 64.59375 \nL 19.828125 64.59375 \nL 19.828125 46.734375 \nQ 21.96875 47.46875 24.109375 47.828125 \nQ 26.265625 48.1875 28.421875 48.1875 \nQ 40.625 48.1875 47.75 41.5 \nQ 54.890625 34.8125 54.890625 23.390625 \nQ 54.890625 11.625 47.5625 5.09375 \nQ 40.234375 -1.421875 26.90625 -1.421875 \nQ 22.3125 -1.421875 17.546875 -0.640625 \nQ 12.796875 0.140625 7.71875 1.703125 \nL 7.71875 11.625 \nQ 12.109375 9.234375 16.796875 8.0625 \nQ 21.484375 6.890625 26.703125 6.890625 \nQ 35.15625 6.890625 40.078125 11.328125 \nQ 45.015625 15.765625 45.015625 23.390625 \nQ 45.015625 31 40.078125 35.4375 \nQ 35.15625 39.890625 26.703125 39.890625 \nQ 22.75 39.890625 18.8125 39.015625 \nQ 14.890625 38.140625 10.796875 36.28125 \nz\n\" id=\"DejaVuSans-53\"/>\n      </defs>\n      <g transform=\"translate(354.131731 254.356563)scale(0.1 -0.1)\">\n       <use xlink:href=\"#DejaVuSans-53\"/>\n       <use x=\"63.623047\" xlink:href=\"#DejaVuSans-48\"/>\n       <use x=\"127.246094\" xlink:href=\"#DejaVuSans-48\"/>\n       <use x=\"190.869141\" xlink:href=\"#DejaVuSans-48\"/>\n       <use x=\"254.492188\" xlink:href=\"#DejaVuSans-48\"/>\n      </g>\n     </g>\n    </g>\n   </g>\n   <g id=\"matplotlib.axis_2\">\n    <g id=\"ytick_1\">\n     <g id=\"line2d_7\">\n      <defs>\n       <path d=\"M 0 0 \nL -3.5 0 \n\" id=\"m427a9ad23e\" style=\"stroke:#000000;stroke-width:0.8;\"/>\n      </defs>\n      <g>\n       <use style=\"stroke:#000000;stroke-width:0.8;\" x=\"66.751563\" xlink:href=\"#m427a9ad23e\" y=\"212.578125\"/>\n      </g>\n     </g>\n     <g id=\"text_7\">\n      <!-- normal -->\n      <defs>\n       <path d=\"M 54.890625 33.015625 \nL 54.890625 0 \nL 45.90625 0 \nL 45.90625 32.71875 \nQ 45.90625 40.484375 42.875 44.328125 \nQ 39.84375 48.1875 33.796875 48.1875 \nQ 26.515625 48.1875 22.3125 43.546875 \nQ 18.109375 38.921875 18.109375 30.90625 \nL 18.109375 0 \nL 9.078125 0 \nL 9.078125 54.6875 \nL 18.109375 54.6875 \nL 18.109375 46.1875 \nQ 21.34375 51.125 25.703125 53.5625 \nQ 30.078125 56 35.796875 56 \nQ 45.21875 56 50.046875 50.171875 \nQ 54.890625 44.34375 54.890625 33.015625 \nz\n\" id=\"DejaVuSans-110\"/>\n       <path d=\"M 30.609375 48.390625 \nQ 23.390625 48.390625 19.1875 42.75 \nQ 14.984375 37.109375 14.984375 27.296875 \nQ 14.984375 17.484375 19.15625 11.84375 \nQ 23.34375 6.203125 30.609375 6.203125 \nQ 37.796875 6.203125 41.984375 11.859375 \nQ 46.1875 17.53125 46.1875 27.296875 \nQ 46.1875 37.015625 41.984375 42.703125 \nQ 37.796875 48.390625 30.609375 48.390625 \nz\nM 30.609375 56 \nQ 42.328125 56 49.015625 48.375 \nQ 55.71875 40.765625 55.71875 27.296875 \nQ 55.71875 13.875 49.015625 6.21875 \nQ 42.328125 -1.421875 30.609375 -1.421875 \nQ 18.84375 -1.421875 12.171875 6.21875 \nQ 5.515625 13.875 5.515625 27.296875 \nQ 5.515625 40.765625 12.171875 48.375 \nQ 18.84375 56 30.609375 56 \nz\n\" id=\"DejaVuSans-111\"/>\n       <path d=\"M 41.109375 46.296875 \nQ 39.59375 47.171875 37.8125 47.578125 \nQ 36.03125 48 33.890625 48 \nQ 26.265625 48 22.1875 43.046875 \nQ 18.109375 38.09375 18.109375 28.8125 \nL 18.109375 0 \nL 9.078125 0 \nL 9.078125 54.6875 \nL 18.109375 54.6875 \nL 18.109375 46.1875 \nQ 20.953125 51.171875 25.484375 53.578125 \nQ 30.03125 56 36.53125 56 \nQ 37.453125 56 38.578125 55.875 \nQ 39.703125 55.765625 41.0625 55.515625 \nz\n\" id=\"DejaVuSans-114\"/>\n       <path d=\"M 52 44.1875 \nQ 55.375 50.25 60.0625 53.125 \nQ 64.75 56 71.09375 56 \nQ 79.640625 56 84.28125 50.015625 \nQ 88.921875 44.046875 88.921875 33.015625 \nL 88.921875 0 \nL 79.890625 0 \nL 79.890625 32.71875 \nQ 79.890625 40.578125 77.09375 44.375 \nQ 74.3125 48.1875 68.609375 48.1875 \nQ 61.625 48.1875 57.5625 43.546875 \nQ 53.515625 38.921875 53.515625 30.90625 \nL 53.515625 0 \nL 44.484375 0 \nL 44.484375 32.71875 \nQ 44.484375 40.625 41.703125 44.40625 \nQ 38.921875 48.1875 33.109375 48.1875 \nQ 26.21875 48.1875 22.15625 43.53125 \nQ 18.109375 38.875 18.109375 30.90625 \nL 18.109375 0 \nL 9.078125 0 \nL 9.078125 54.6875 \nL 18.109375 54.6875 \nL 18.109375 46.1875 \nQ 21.1875 51.21875 25.484375 53.609375 \nQ 29.78125 56 35.6875 56 \nQ 41.65625 56 45.828125 52.96875 \nQ 50 49.953125 52 44.1875 \nz\n\" id=\"DejaVuSans-109\"/>\n       <path d=\"M 34.28125 27.484375 \nQ 23.390625 27.484375 19.1875 25 \nQ 14.984375 22.515625 14.984375 16.5 \nQ 14.984375 11.71875 18.140625 8.90625 \nQ 21.296875 6.109375 26.703125 6.109375 \nQ 34.1875 6.109375 38.703125 11.40625 \nQ 43.21875 16.703125 43.21875 25.484375 \nL 43.21875 27.484375 \nz\nM 52.203125 31.203125 \nL 52.203125 0 \nL 43.21875 0 \nL 43.21875 8.296875 \nQ 40.140625 3.328125 35.546875 0.953125 \nQ 30.953125 -1.421875 24.3125 -1.421875 \nQ 15.921875 -1.421875 10.953125 3.296875 \nQ 6 8.015625 6 15.921875 \nQ 6 25.140625 12.171875 29.828125 \nQ 18.359375 34.515625 30.609375 34.515625 \nL 43.21875 34.515625 \nL 43.21875 35.40625 \nQ 43.21875 41.609375 39.140625 45 \nQ 35.0625 48.390625 27.6875 48.390625 \nQ 23 48.390625 18.546875 47.265625 \nQ 14.109375 46.140625 10.015625 43.890625 \nL 10.015625 52.203125 \nQ 14.9375 54.109375 19.578125 55.046875 \nQ 24.21875 56 28.609375 56 \nQ 40.484375 56 46.34375 49.84375 \nQ 52.203125 43.703125 52.203125 31.203125 \nz\n\" id=\"DejaVuSans-97\"/>\n       <path d=\"M 9.421875 75.984375 \nL 18.40625 75.984375 \nL 18.40625 0 \nL 9.421875 0 \nz\n\" id=\"DejaVuSans-108\"/>\n      </defs>\n      <g transform=\"translate(24.539063 216.377344)scale(0.1 -0.1)\">\n       <use xlink:href=\"#DejaVuSans-110\"/>\n       <use x=\"63.378906\" xlink:href=\"#DejaVuSans-111\"/>\n       <use x=\"124.560547\" xlink:href=\"#DejaVuSans-114\"/>\n       <use x=\"165.658203\" xlink:href=\"#DejaVuSans-109\"/>\n       <use x=\"263.070312\" xlink:href=\"#DejaVuSans-97\"/>\n       <use x=\"324.349609\" xlink:href=\"#DejaVuSans-108\"/>\n      </g>\n     </g>\n    </g>\n    <g id=\"ytick_2\">\n     <g id=\"line2d_8\">\n      <g>\n       <use style=\"stroke:#000000;stroke-width:0.8;\" x=\"66.751563\" xlink:href=\"#m427a9ad23e\" y=\"158.218125\"/>\n      </g>\n     </g>\n     <g id=\"text_8\">\n      <!-- abusive -->\n      <defs>\n       <path d=\"M 48.6875 27.296875 \nQ 48.6875 37.203125 44.609375 42.84375 \nQ 40.53125 48.484375 33.40625 48.484375 \nQ 26.265625 48.484375 22.1875 42.84375 \nQ 18.109375 37.203125 18.109375 27.296875 \nQ 18.109375 17.390625 22.1875 11.75 \nQ 26.265625 6.109375 33.40625 6.109375 \nQ 40.53125 6.109375 44.609375 11.75 \nQ 48.6875 17.390625 48.6875 27.296875 \nz\nM 18.109375 46.390625 \nQ 20.953125 51.265625 25.265625 53.625 \nQ 29.59375 56 35.59375 56 \nQ 45.5625 56 51.78125 48.09375 \nQ 58.015625 40.1875 58.015625 27.296875 \nQ 58.015625 14.40625 51.78125 6.484375 \nQ 45.5625 -1.421875 35.59375 -1.421875 \nQ 29.59375 -1.421875 25.265625 0.953125 \nQ 20.953125 3.328125 18.109375 8.203125 \nL 18.109375 0 \nL 9.078125 0 \nL 9.078125 75.984375 \nL 18.109375 75.984375 \nz\n\" id=\"DejaVuSans-98\"/>\n       <path d=\"M 8.5 21.578125 \nL 8.5 54.6875 \nL 17.484375 54.6875 \nL 17.484375 21.921875 \nQ 17.484375 14.15625 20.5 10.265625 \nQ 23.53125 6.390625 29.59375 6.390625 \nQ 36.859375 6.390625 41.078125 11.03125 \nQ 45.3125 15.671875 45.3125 23.6875 \nL 45.3125 54.6875 \nL 54.296875 54.6875 \nL 54.296875 0 \nL 45.3125 0 \nL 45.3125 8.40625 \nQ 42.046875 3.421875 37.71875 1 \nQ 33.40625 -1.421875 27.6875 -1.421875 \nQ 18.265625 -1.421875 13.375 4.4375 \nQ 8.5 10.296875 8.5 21.578125 \nz\nM 31.109375 56 \nz\n\" id=\"DejaVuSans-117\"/>\n       <path d=\"M 44.28125 53.078125 \nL 44.28125 44.578125 \nQ 40.484375 46.53125 36.375 47.5 \nQ 32.28125 48.484375 27.875 48.484375 \nQ 21.1875 48.484375 17.84375 46.4375 \nQ 14.5 44.390625 14.5 40.28125 \nQ 14.5 37.15625 16.890625 35.375 \nQ 19.28125 33.59375 26.515625 31.984375 \nL 29.59375 31.296875 \nQ 39.15625 29.25 43.1875 25.515625 \nQ 47.21875 21.78125 47.21875 15.09375 \nQ 47.21875 7.46875 41.1875 3.015625 \nQ 35.15625 -1.421875 24.609375 -1.421875 \nQ 20.21875 -1.421875 15.453125 -0.5625 \nQ 10.6875 0.296875 5.421875 2 \nL 5.421875 11.28125 \nQ 10.40625 8.6875 15.234375 7.390625 \nQ 20.0625 6.109375 24.8125 6.109375 \nQ 31.15625 6.109375 34.5625 8.28125 \nQ 37.984375 10.453125 37.984375 14.40625 \nQ 37.984375 18.0625 35.515625 20.015625 \nQ 33.0625 21.96875 24.703125 23.78125 \nL 21.578125 24.515625 \nQ 13.234375 26.265625 9.515625 29.90625 \nQ 5.8125 33.546875 5.8125 39.890625 \nQ 5.8125 47.609375 11.28125 51.796875 \nQ 16.75 56 26.8125 56 \nQ 31.78125 56 36.171875 55.265625 \nQ 40.578125 54.546875 44.28125 53.078125 \nz\n\" id=\"DejaVuSans-115\"/>\n       <path d=\"M 9.421875 54.6875 \nL 18.40625 54.6875 \nL 18.40625 0 \nL 9.421875 0 \nz\nM 9.421875 75.984375 \nL 18.40625 75.984375 \nL 18.40625 64.59375 \nL 9.421875 64.59375 \nz\n\" id=\"DejaVuSans-105\"/>\n       <path d=\"M 2.984375 54.6875 \nL 12.5 54.6875 \nL 29.59375 8.796875 \nL 46.6875 54.6875 \nL 56.203125 54.6875 \nL 35.6875 0 \nL 23.484375 0 \nz\n\" id=\"DejaVuSans-118\"/>\n       <path d=\"M 56.203125 29.59375 \nL 56.203125 25.203125 \nL 14.890625 25.203125 \nQ 15.484375 15.921875 20.484375 11.0625 \nQ 25.484375 6.203125 34.421875 6.203125 \nQ 39.59375 6.203125 44.453125 7.46875 \nQ 49.3125 8.734375 54.109375 11.28125 \nL 54.109375 2.78125 \nQ 49.265625 0.734375 44.1875 -0.34375 \nQ 39.109375 -1.421875 33.890625 -1.421875 \nQ 20.796875 -1.421875 13.15625 6.1875 \nQ 5.515625 13.8125 5.515625 26.8125 \nQ 5.515625 40.234375 12.765625 48.109375 \nQ 20.015625 56 32.328125 56 \nQ 43.359375 56 49.78125 48.890625 \nQ 56.203125 41.796875 56.203125 29.59375 \nz\nM 47.21875 32.234375 \nQ 47.125 39.59375 43.09375 43.984375 \nQ 39.0625 48.390625 32.421875 48.390625 \nQ 24.90625 48.390625 20.390625 44.140625 \nQ 15.875 39.890625 15.1875 32.171875 \nz\n\" id=\"DejaVuSans-101\"/>\n      </defs>\n      <g transform=\"translate(20.878125 162.017344)scale(0.1 -0.1)\">\n       <use xlink:href=\"#DejaVuSans-97\"/>\n       <use x=\"61.279297\" xlink:href=\"#DejaVuSans-98\"/>\n       <use x=\"124.755859\" xlink:href=\"#DejaVuSans-117\"/>\n       <use x=\"188.134766\" xlink:href=\"#DejaVuSans-115\"/>\n       <use x=\"240.234375\" xlink:href=\"#DejaVuSans-105\"/>\n       <use x=\"268.017578\" xlink:href=\"#DejaVuSans-118\"/>\n       <use x=\"327.197266\" xlink:href=\"#DejaVuSans-101\"/>\n      </g>\n     </g>\n    </g>\n    <g id=\"ytick_3\">\n     <g id=\"line2d_9\">\n      <g>\n       <use style=\"stroke:#000000;stroke-width:0.8;\" x=\"66.751563\" xlink:href=\"#m427a9ad23e\" y=\"103.858125\"/>\n      </g>\n     </g>\n     <g id=\"text_9\">\n      <!-- spam -->\n      <defs>\n       <path d=\"M 18.109375 8.203125 \nL 18.109375 -20.796875 \nL 9.078125 -20.796875 \nL 9.078125 54.6875 \nL 18.109375 54.6875 \nL 18.109375 46.390625 \nQ 20.953125 51.265625 25.265625 53.625 \nQ 29.59375 56 35.59375 56 \nQ 45.5625 56 51.78125 48.09375 \nQ 58.015625 40.1875 58.015625 27.296875 \nQ 58.015625 14.40625 51.78125 6.484375 \nQ 45.5625 -1.421875 35.59375 -1.421875 \nQ 29.59375 -1.421875 25.265625 0.953125 \nQ 20.953125 3.328125 18.109375 8.203125 \nz\nM 48.6875 27.296875 \nQ 48.6875 37.203125 44.609375 42.84375 \nQ 40.53125 48.484375 33.40625 48.484375 \nQ 26.265625 48.484375 22.1875 42.84375 \nQ 18.109375 37.203125 18.109375 27.296875 \nQ 18.109375 17.390625 22.1875 11.75 \nQ 26.265625 6.109375 33.40625 6.109375 \nQ 40.53125 6.109375 44.609375 11.75 \nQ 48.6875 17.390625 48.6875 27.296875 \nz\n\" id=\"DejaVuSans-112\"/>\n      </defs>\n      <g transform=\"translate(32.325 107.657344)scale(0.1 -0.1)\">\n       <use xlink:href=\"#DejaVuSans-115\"/>\n       <use x=\"52.099609\" xlink:href=\"#DejaVuSans-112\"/>\n       <use x=\"115.576172\" xlink:href=\"#DejaVuSans-97\"/>\n       <use x=\"176.855469\" xlink:href=\"#DejaVuSans-109\"/>\n      </g>\n     </g>\n    </g>\n    <g id=\"ytick_4\">\n     <g id=\"line2d_10\">\n      <g>\n       <use style=\"stroke:#000000;stroke-width:0.8;\" x=\"66.751563\" xlink:href=\"#m427a9ad23e\" y=\"49.498125\"/>\n      </g>\n     </g>\n     <g id=\"text_10\">\n      <!-- hateful -->\n      <defs>\n       <path d=\"M 54.890625 33.015625 \nL 54.890625 0 \nL 45.90625 0 \nL 45.90625 32.71875 \nQ 45.90625 40.484375 42.875 44.328125 \nQ 39.84375 48.1875 33.796875 48.1875 \nQ 26.515625 48.1875 22.3125 43.546875 \nQ 18.109375 38.921875 18.109375 30.90625 \nL 18.109375 0 \nL 9.078125 0 \nL 9.078125 75.984375 \nL 18.109375 75.984375 \nL 18.109375 46.1875 \nQ 21.34375 51.125 25.703125 53.5625 \nQ 30.078125 56 35.796875 56 \nQ 45.21875 56 50.046875 50.171875 \nQ 54.890625 44.34375 54.890625 33.015625 \nz\n\" id=\"DejaVuSans-104\"/>\n       <path d=\"M 18.3125 70.21875 \nL 18.3125 54.6875 \nL 36.8125 54.6875 \nL 36.8125 47.703125 \nL 18.3125 47.703125 \nL 18.3125 18.015625 \nQ 18.3125 11.328125 20.140625 9.421875 \nQ 21.96875 7.515625 27.59375 7.515625 \nL 36.8125 7.515625 \nL 36.8125 0 \nL 27.59375 0 \nQ 17.1875 0 13.234375 3.875 \nQ 9.28125 7.765625 9.28125 18.015625 \nL 9.28125 47.703125 \nL 2.6875 47.703125 \nL 2.6875 54.6875 \nL 9.28125 54.6875 \nL 9.28125 70.21875 \nz\n\" id=\"DejaVuSans-116\"/>\n       <path d=\"M 37.109375 75.984375 \nL 37.109375 68.5 \nL 28.515625 68.5 \nQ 23.6875 68.5 21.796875 66.546875 \nQ 19.921875 64.59375 19.921875 59.515625 \nL 19.921875 54.6875 \nL 34.71875 54.6875 \nL 34.71875 47.703125 \nL 19.921875 47.703125 \nL 19.921875 0 \nL 10.890625 0 \nL 10.890625 47.703125 \nL 2.296875 47.703125 \nL 2.296875 54.6875 \nL 10.890625 54.6875 \nL 10.890625 58.5 \nQ 10.890625 67.625 15.140625 71.796875 \nQ 19.390625 75.984375 28.609375 75.984375 \nz\n\" id=\"DejaVuSans-102\"/>\n      </defs>\n      <g transform=\"translate(24.576563 53.297344)scale(0.1 -0.1)\">\n       <use xlink:href=\"#DejaVuSans-104\"/>\n       <use x=\"63.378906\" xlink:href=\"#DejaVuSans-97\"/>\n       <use x=\"124.658203\" xlink:href=\"#DejaVuSans-116\"/>\n       <use x=\"163.867188\" xlink:href=\"#DejaVuSans-101\"/>\n       <use x=\"225.390625\" xlink:href=\"#DejaVuSans-102\"/>\n       <use x=\"260.595703\" xlink:href=\"#DejaVuSans-117\"/>\n       <use x=\"323.974609\" xlink:href=\"#DejaVuSans-108\"/>\n      </g>\n     </g>\n    </g>\n    <g id=\"text_11\">\n     <!-- category -->\n     <defs>\n      <path d=\"M 48.78125 52.59375 \nL 48.78125 44.1875 \nQ 44.96875 46.296875 41.140625 47.34375 \nQ 37.3125 48.390625 33.40625 48.390625 \nQ 24.65625 48.390625 19.8125 42.84375 \nQ 14.984375 37.3125 14.984375 27.296875 \nQ 14.984375 17.28125 19.8125 11.734375 \nQ 24.65625 6.203125 33.40625 6.203125 \nQ 37.3125 6.203125 41.140625 7.25 \nQ 44.96875 8.296875 48.78125 10.40625 \nL 48.78125 2.09375 \nQ 45.015625 0.34375 40.984375 -0.53125 \nQ 36.96875 -1.421875 32.421875 -1.421875 \nQ 20.0625 -1.421875 12.78125 6.34375 \nQ 5.515625 14.109375 5.515625 27.296875 \nQ 5.515625 40.671875 12.859375 48.328125 \nQ 20.21875 56 33.015625 56 \nQ 37.15625 56 41.109375 55.140625 \nQ 45.0625 54.296875 48.78125 52.59375 \nz\n\" id=\"DejaVuSans-99\"/>\n      <path d=\"M 45.40625 27.984375 \nQ 45.40625 37.75 41.375 43.109375 \nQ 37.359375 48.484375 30.078125 48.484375 \nQ 22.859375 48.484375 18.828125 43.109375 \nQ 14.796875 37.75 14.796875 27.984375 \nQ 14.796875 18.265625 18.828125 12.890625 \nQ 22.859375 7.515625 30.078125 7.515625 \nQ 37.359375 7.515625 41.375 12.890625 \nQ 45.40625 18.265625 45.40625 27.984375 \nz\nM 54.390625 6.78125 \nQ 54.390625 -7.171875 48.1875 -13.984375 \nQ 42 -20.796875 29.203125 -20.796875 \nQ 24.46875 -20.796875 20.265625 -20.09375 \nQ 16.0625 -19.390625 12.109375 -17.921875 \nL 12.109375 -9.1875 \nQ 16.0625 -11.328125 19.921875 -12.34375 \nQ 23.78125 -13.375 27.78125 -13.375 \nQ 36.625 -13.375 41.015625 -8.765625 \nQ 45.40625 -4.15625 45.40625 5.171875 \nL 45.40625 9.625 \nQ 42.625 4.78125 38.28125 2.390625 \nQ 33.9375 0 27.875 0 \nQ 17.828125 0 11.671875 7.65625 \nQ 5.515625 15.328125 5.515625 27.984375 \nQ 5.515625 40.671875 11.671875 48.328125 \nQ 17.828125 56 27.875 56 \nQ 33.9375 56 38.28125 53.609375 \nQ 42.625 51.21875 45.40625 46.390625 \nL 45.40625 54.6875 \nL 54.390625 54.6875 \nz\n\" id=\"DejaVuSans-103\"/>\n      <path d=\"M 32.171875 -5.078125 \nQ 28.375 -14.84375 24.75 -17.8125 \nQ 21.140625 -20.796875 15.09375 -20.796875 \nL 7.90625 -20.796875 \nL 7.90625 -13.28125 \nL 13.1875 -13.28125 \nQ 16.890625 -13.28125 18.9375 -11.515625 \nQ 21 -9.765625 23.484375 -3.21875 \nL 25.09375 0.875 \nL 2.984375 54.6875 \nL 12.5 54.6875 \nL 29.59375 11.921875 \nL 46.6875 54.6875 \nL 56.203125 54.6875 \nz\n\" id=\"DejaVuSans-121\"/>\n     </defs>\n     <g transform=\"translate(14.798438 153.136563)rotate(-90)scale(0.1 -0.1)\">\n      <use xlink:href=\"#DejaVuSans-99\"/>\n      <use x=\"54.980469\" xlink:href=\"#DejaVuSans-97\"/>\n      <use x=\"116.259766\" xlink:href=\"#DejaVuSans-116\"/>\n      <use x=\"155.46875\" xlink:href=\"#DejaVuSans-101\"/>\n      <use x=\"216.992188\" xlink:href=\"#DejaVuSans-103\"/>\n      <use x=\"280.46875\" xlink:href=\"#DejaVuSans-111\"/>\n      <use x=\"341.650391\" xlink:href=\"#DejaVuSans-114\"/>\n      <use x=\"382.763672\" xlink:href=\"#DejaVuSans-121\"/>\n     </g>\n    </g>\n   </g>\n   <g id=\"patch_7\">\n    <path d=\"M 66.751563 239.758125 \nL 66.751563 22.318125 \n\" style=\"fill:none;stroke:#000000;stroke-linecap:square;stroke-linejoin:miter;stroke-width:0.8;\"/>\n   </g>\n   <g id=\"patch_8\">\n    <path d=\"M 401.551562 239.758125 \nL 401.551562 22.318125 \n\" style=\"fill:none;stroke:#000000;stroke-linecap:square;stroke-linejoin:miter;stroke-width:0.8;\"/>\n   </g>\n   <g id=\"patch_9\">\n    <path d=\"M 66.751563 239.758125 \nL 401.551562 239.758125 \n\" style=\"fill:none;stroke:#000000;stroke-linecap:square;stroke-linejoin:miter;stroke-width:0.8;\"/>\n   </g>\n   <g id=\"patch_10\">\n    <path d=\"M 66.751563 22.318125 \nL 401.551562 22.318125 \n\" style=\"fill:none;stroke:#000000;stroke-linecap:square;stroke-linejoin:miter;stroke-width:0.8;\"/>\n   </g>\n   <g id=\"text_12\">\n    <!-- Number of tweets Per Label -->\n    <defs>\n     <path d=\"M 9.8125 72.90625 \nL 23.09375 72.90625 \nL 55.421875 11.921875 \nL 55.421875 72.90625 \nL 64.984375 72.90625 \nL 64.984375 0 \nL 51.703125 0 \nL 19.390625 60.984375 \nL 19.390625 0 \nL 9.8125 0 \nz\n\" id=\"DejaVuSans-78\"/>\n     <path id=\"DejaVuSans-32\"/>\n     <path d=\"M 4.203125 54.6875 \nL 13.1875 54.6875 \nL 24.421875 12.015625 \nL 35.59375 54.6875 \nL 46.1875 54.6875 \nL 57.421875 12.015625 \nL 68.609375 54.6875 \nL 77.59375 54.6875 \nL 63.28125 0 \nL 52.6875 0 \nL 40.921875 44.828125 \nL 29.109375 0 \nL 18.5 0 \nz\n\" id=\"DejaVuSans-119\"/>\n     <path d=\"M 19.671875 64.796875 \nL 19.671875 37.40625 \nL 32.078125 37.40625 \nQ 38.96875 37.40625 42.71875 40.96875 \nQ 46.484375 44.53125 46.484375 51.125 \nQ 46.484375 57.671875 42.71875 61.234375 \nQ 38.96875 64.796875 32.078125 64.796875 \nz\nM 9.8125 72.90625 \nL 32.078125 72.90625 \nQ 44.34375 72.90625 50.609375 67.359375 \nQ 56.890625 61.8125 56.890625 51.125 \nQ 56.890625 40.328125 50.609375 34.8125 \nQ 44.34375 29.296875 32.078125 29.296875 \nL 19.671875 29.296875 \nL 19.671875 0 \nL 9.8125 0 \nz\n\" id=\"DejaVuSans-80\"/>\n     <path d=\"M 9.8125 72.90625 \nL 19.671875 72.90625 \nL 19.671875 8.296875 \nL 55.171875 8.296875 \nL 55.171875 0 \nL 9.8125 0 \nz\n\" id=\"DejaVuSans-76\"/>\n    </defs>\n    <g transform=\"translate(150.555625 16.318125)scale(0.12 -0.12)\">\n     <use xlink:href=\"#DejaVuSans-78\"/>\n     <use x=\"74.804688\" xlink:href=\"#DejaVuSans-117\"/>\n     <use x=\"138.183594\" xlink:href=\"#DejaVuSans-109\"/>\n     <use x=\"235.595703\" xlink:href=\"#DejaVuSans-98\"/>\n     <use x=\"299.072266\" xlink:href=\"#DejaVuSans-101\"/>\n     <use x=\"360.595703\" xlink:href=\"#DejaVuSans-114\"/>\n     <use x=\"401.708984\" xlink:href=\"#DejaVuSans-32\"/>\n     <use x=\"433.496094\" xlink:href=\"#DejaVuSans-111\"/>\n     <use x=\"494.677734\" xlink:href=\"#DejaVuSans-102\"/>\n     <use x=\"529.882812\" xlink:href=\"#DejaVuSans-32\"/>\n     <use x=\"561.669922\" xlink:href=\"#DejaVuSans-116\"/>\n     <use x=\"600.878906\" xlink:href=\"#DejaVuSans-119\"/>\n     <use x=\"682.666016\" xlink:href=\"#DejaVuSans-101\"/>\n     <use x=\"744.189453\" xlink:href=\"#DejaVuSans-101\"/>\n     <use x=\"805.712891\" xlink:href=\"#DejaVuSans-116\"/>\n     <use x=\"844.921875\" xlink:href=\"#DejaVuSans-115\"/>\n     <use x=\"897.021484\" xlink:href=\"#DejaVuSans-32\"/>\n     <use x=\"928.808594\" xlink:href=\"#DejaVuSans-80\"/>\n     <use x=\"989.064453\" xlink:href=\"#DejaVuSans-101\"/>\n     <use x=\"1050.587891\" xlink:href=\"#DejaVuSans-114\"/>\n     <use x=\"1091.701172\" xlink:href=\"#DejaVuSans-32\"/>\n     <use x=\"1123.488281\" xlink:href=\"#DejaVuSans-76\"/>\n     <use x=\"1179.201172\" xlink:href=\"#DejaVuSans-97\"/>\n     <use x=\"1240.480469\" xlink:href=\"#DejaVuSans-98\"/>\n     <use x=\"1303.957031\" xlink:href=\"#DejaVuSans-101\"/>\n     <use x=\"1365.480469\" xlink:href=\"#DejaVuSans-108\"/>\n    </g>\n   </g>\n   <g id=\"legend_1\">\n    <g id=\"patch_11\">\n     <path d=\"M 334.339062 44.99625 \nL 394.551562 44.99625 \nQ 396.551562 44.99625 396.551562 42.99625 \nL 396.551562 29.318125 \nQ 396.551562 27.318125 394.551562 27.318125 \nL 334.339062 27.318125 \nQ 332.339062 27.318125 332.339062 29.318125 \nL 332.339062 42.99625 \nQ 332.339062 44.99625 334.339062 44.99625 \nz\n\" style=\"fill:#ffffff;opacity:0.8;stroke:#cccccc;stroke-linejoin:miter;\"/>\n    </g>\n    <g id=\"patch_12\">\n     <path d=\"M 336.339062 38.916562 \nL 356.339062 38.916562 \nL 356.339062 31.916562 \nL 336.339062 31.916562 \nz\n\" style=\"fill:#008000;\"/>\n    </g>\n    <g id=\"text_13\">\n     <!-- count -->\n     <g transform=\"translate(364.339062 38.916562)scale(0.1 -0.1)\">\n      <use xlink:href=\"#DejaVuSans-99\"/>\n      <use x=\"54.980469\" xlink:href=\"#DejaVuSans-111\"/>\n      <use x=\"116.162109\" xlink:href=\"#DejaVuSans-117\"/>\n      <use x=\"179.541016\" xlink:href=\"#DejaVuSans-110\"/>\n      <use x=\"242.919922\" xlink:href=\"#DejaVuSans-116\"/>\n     </g>\n    </g>\n   </g>\n  </g>\n </g>\n <defs>\n  <clipPath id=\"pa8181e69b9\">\n   <rect height=\"217.44\" width=\"334.8\" x=\"66.751563\" y=\"22.318125\"/>\n  </clipPath>\n </defs>\n</svg>\n",
      "image/png": "[encoded data removed]"
     },
     "metadata": {
      "needs_background": "light"
     }
    }
   ],
   "source": [
    "#To show number of tweets per label\n",
    "number_of_tweets_per_label = tweets_dataFrame2.groupBy(\"category\").count().orderBy(col(\"count\").desc()) \n",
    "number_of_tweets_per_label.show()\n",
    "\n",
    "#To plot the result \n",
    "result = number_of_tweets_per_label.toPandas()\n",
    "result.plot(kind = \"barh\", x=\"category\", y=\"count\", color=['green','red','blue','orange'])\n",
    "plt.title(\"Number of tweets Per Label\")\n",
    "plt.show()"
   ]
  },
  {
   "cell_type": "code",
   "execution_count": 88,
   "metadata": {},
   "outputs": [],
   "source": [
    "#To apply Tokenization process to get twwet text and break it into individual terms (words)\n",
    "tokenizer = Tokenizer(inputCol=\"text\", outputCol=\"words\")\n",
    "tweets_dataFrame2 = tokenizer.transform(tweets_dataFrame2)\n"
   ]
  },
  {
   "cell_type": "code",
   "execution_count": 89,
   "metadata": {},
   "outputs": [
    {
     "output_type": "stream",
     "name": "stdout",
     "text": "+---+--------+--------------------+--------------------+\n| id|category|                text|               words|\n+---+--------+--------------------+--------------------+\n|  1|    spam|Beats by Dr Dre u...|[beats, by, dr, d...|\n|  2| abusive| Man it would fuc...|[, man, it, would...|\n|  3|  normal|It is time to dra...|[it, is, time, to...|\n|  4|  normal|if you notice me ...|[if, you, notice,...|\n|  5|  normal|Forget unfollower...|[forget, unfollow...|\n+---+--------+--------------------+--------------------+\nonly showing top 5 rows\n\n"
    }
   ],
   "source": [
    "tweets_dataFrame2.show(5)"
   ]
  },
  {
   "cell_type": "code",
   "execution_count": 90,
   "metadata": {},
   "outputs": [],
   "source": [
    "# To remove Stop words because the words appear frequently and don’t carry as much meaning\n",
    "stop_word_remover = StopWordsRemover(inputCol=\"words\", outputCol=\"filtered\")\n",
    "tweets_dataFrame2 = stop_word_remover.transform(tweets_dataFrame2)\n"
   ]
  },
  {
   "cell_type": "code",
   "execution_count": 91,
   "metadata": {},
   "outputs": [
    {
     "output_type": "stream",
     "name": "stdout",
     "text": "+---+--------+--------------------+--------------------+--------------------+\n| id|category|                text|               words|            filtered|\n+---+--------+--------------------+--------------------+--------------------+\n|  1|    spam|Beats by Dr Dre u...|[beats, by, dr, d...|[beats, dr, dre, ...|\n|  2| abusive| Man it would fuc...|[, man, it, would...|[, man, fucking, ...|\n|  3|  normal|It is time to dra...|[it, is, time, to...|[time, draw, clos...|\n+---+--------+--------------------+--------------------+--------------------+\nonly showing top 3 rows\n\n"
    }
   ],
   "source": [
    "tweets_dataFrame2.show(3)"
   ]
  },
  {
   "cell_type": "code",
   "execution_count": 92,
   "metadata": {},
   "outputs": [],
   "source": [
    "# bag of words count\n",
    "# fit a CountVectorizerModel from the corpus.\n",
    "word_count_Vectors = CountVectorizer(inputCol=\"filtered\", outputCol=\"features\", vocabSize=5000, minDF=2.0)\n",
    "\n",
    "vector_model = word_count_Vectors.fit(tweets_dataFrame2)\n",
    "\n",
    "tweets_dataFrame2 = vector_model.transform(tweets_dataFrame2)\n"
   ]
  },
  {
   "cell_type": "code",
   "execution_count": 93,
   "metadata": {},
   "outputs": [
    {
     "output_type": "stream",
     "name": "stdout",
     "text": "+---+--------+--------------------+--------------------+--------------------+--------------------+\n| id|category|                text|               words|            filtered|            features|\n+---+--------+--------------------+--------------------+--------------------+--------------------+\n|  1|    spam|Beats by Dr Dre u...|[beats, by, dr, d...|[beats, dr, dre, ...|(5000,[191,954,14...|\n|  2| abusive| Man it would fuc...|[, man, it, would...|[, man, fucking, ...|(5000,[0,1,54,302...|\n|  3|  normal|It is time to dra...|[it, is, time, to...|[time, draw, clos...|(5000,[16,81,323,...|\n+---+--------+--------------------+--------------------+--------------------+--------------------+\nonly showing top 3 rows\n\n"
    }
   ],
   "source": [
    "tweets_dataFrame2.show(3)"
   ]
  },
  {
   "cell_type": "code",
   "execution_count": 94,
   "metadata": {},
   "outputs": [
    {
     "output_type": "stream",
     "name": "stdout",
     "text": "+---+--------+--------------------+--------------------+--------------------+--------------------+-----+\n| id|category|                text|               words|            filtered|            features|label|\n+---+--------+--------------------+--------------------+--------------------+--------------------+-----+\n|  1|    spam|Beats by Dr Dre u...|[beats, by, dr, d...|[beats, dr, dre, ...|(5000,[191,954,14...|  2.0|\n|  2| abusive| Man it would fuc...|[, man, it, would...|[, man, fucking, ...|(5000,[0,1,54,302...|  1.0|\n|  3|  normal|It is time to dra...|[it, is, time, to...|[time, draw, clos...|(5000,[16,81,323,...|  0.0|\n+---+--------+--------------------+--------------------+--------------------+--------------------+-----+\nonly showing top 3 rows\n\n"
    }
   ],
   "source": [
    "#to create a new column called label from the income attribute\n",
    "indexer = StringIndexer(inputCol=\"category\", outputCol=\"label\") \n",
    "tweets_dataFrame2 = indexer.fit(tweets_dataFrame2).transform(tweets_dataFrame2)\n",
    "tweets_dataFrame2.show(3)"
   ]
  },
  {
   "cell_type": "code",
   "execution_count": 95,
   "metadata": {},
   "outputs": [
    {
     "output_type": "stream",
     "name": "stdout",
     "text": "+---+--------+--------------------+--------------------+--------------------+--------------------+-----+\n| id|category|                text|               words|            filtered|            features|label|\n+---+--------+--------------------+--------------------+--------------------+--------------------+-----+\n|  1|    spam|Beats by Dr Dre u...|[beats, by, dr, d...|[beats, dr, dre, ...|(5000,[191,954,14...|  2.0|\n|  2| abusive| Man it would fuc...|[, man, it, would...|[, man, fucking, ...|(5000,[0,1,54,302...|  1.0|\n|  3|  normal|It is time to dra...|[it, is, time, to...|[time, draw, clos...|(5000,[16,81,323,...|  0.0|\n|  4|  normal|if you notice me ...|[if, you, notice,...|[notice, start, a...|(5000,[3,111,187,...|  0.0|\n|  5|  normal|Forget unfollower...|[forget, unfollow...|[forget, unfollow...|(5000,[13,17,23,9...|  0.0|\n|  6| abusive| Hate Being sexua...|[, hate, being, s...|[, hate, sexually...|(5000,[0,2,29,33,...|  1.0|\n|  7|  normal|opped the group i...|[opped, the, grou...|[opped, group, tg...|(5000,[15,267,462...|  0.0|\n|  8|  normal|hat daily baby as...|[hat, daily, baby...|[hat, daily, baby...|(5000,[233,237,25...|  0.0|\n|  9|  normal|I liked a video f...|[i, liked, a, vid...|[liked, video, bl...|(5000,[15,30,186,...|  0.0|\n| 10| abusive| If your fucking ...|[, if, your, fuck...|[, fucking, amp, ...|(5000,[0,1,3,133,...|  1.0|\n| 11|    spam|Uber finds one al...|[uber, finds, one...|[uber, finds, one...|(5000,[8,1309,181...|  2.0|\n| 12|  normal|Fwd give up You v...|[fwd, give, up, y...|[fwd, give, ve, l...|(5000,[8,40,104,1...|  0.0|\n| 13| abusive| That s one way h...|[, that, s, one, ...|[, one, way, pull...|(5000,[0,1,8,60,8...|  1.0|\n| 14| abusive|Spotify is fuckin...|[spotify, is, fuc...|  [spotify, fucking]|(5000,[1,3432],[1...|  1.0|\n| 15|  normal|Struggle to remem...|[struggle, to, re...|[struggle, rememb...|(5000,[166,223,36...|  0.0|\n| 16| abusive| Im a nasty ass f...|[, im, a, nasty, ...|[, im, nasty, ass...|(5000,[0,2,14,59,...|  1.0|\n| 17|  normal|Here s What Happe...|[here, s, what, h...|[happened, tried,...|(5000,[13,314,546...|  0.0|\n| 18| abusive|Lol except she di...|[lol, except, she...|[lol, except, did...|(5000,[107,184,20...|  1.0|\n| 19| abusive| Johnson can u ma...|[, johnson, can, ...|[, johnson, u, ma...|(5000,[0,1,11,111...|  1.0|\n| 20| abusive|then you ask for ...|[then, you, ask, ...|[ask, contact, pi...|(5000,[2,22,27,75...|  1.0|\n+---+--------+--------------------+--------------------+--------------------+--------------------+-----+\nonly showing top 20 rows\n\n"
    }
   ],
   "source": [
    "tweets_dataFrame2.show(20)"
   ]
  },
  {
   "cell_type": "code",
   "execution_count": 96,
   "metadata": {},
   "outputs": [],
   "source": [
    "# To get the label and features vector\n",
    "model_data = tweets_dataFrame2.select(\"id\",\"category\",\"text\",\"words\",\"filtered\", \"label\",\"features\")\n",
    "#To split the model dataset into training and testing datasets, 80% for taining and 20% for testing\n",
    "training, test = model_data.randomSplit([0.8, 0.2])"
   ]
  },
  {
   "cell_type": "code",
   "execution_count": 97,
   "metadata": {},
   "outputs": [
    {
     "output_type": "stream",
     "name": "stdout",
     "text": "+--------------------+\n|            features|\n+--------------------+\n|(5000,[191,954,14...|\n|(5000,[0,1,54,302...|\n|(5000,[16,81,323,...|\n|(5000,[3,111,187,...|\n|(5000,[13,17,23,9...|\n|(5000,[0,2,29,33,...|\n|(5000,[15,267,462...|\n|(5000,[233,237,25...|\n|(5000,[15,30,186,...|\n|(5000,[8,1309,181...|\n|(5000,[8,40,104,1...|\n|(5000,[0,1,8,60,8...|\n|(5000,[13,314,546...|\n|(5000,[107,184,20...|\n|(5000,[0,1,11,111...|\n|(5000,[470,2080],...|\n|(5000,[42,661,683...|\n|(5000,[0,1,66,313...|\n|(5000,[441,531,17...|\n|(5000,[1,52,413],...|\n+--------------------+\nonly showing top 20 rows\n\n"
    }
   ],
   "source": [
    "training.select(\"features\").show()\n"
   ]
  },
  {
   "cell_type": "code",
   "execution_count": 102,
   "metadata": {},
   "outputs": [
    {
     "output_type": "stream",
     "name": "stdout",
     "text": "+-----+--------+------------------------------+-----+----------+\n|   id|category|                   probability|label|prediction|\n+-----+--------+------------------------------+-----+----------+\n|48343|  normal|[0.9981093904032272,4.82024...|  0.0|       0.0|\n|50735|  normal|[0.9835181703680428,0.00752...|  0.0|       0.0|\n|53023|  normal|[0.9822302967225961,0.01109...|  0.0|       0.0|\n|96644|  normal|[0.96973634437815,0.0132452...|  0.0|       0.0|\n| 4922|  normal|[0.9672234375625904,0.00909...|  0.0|       0.0|\n|52025|  normal|[0.9667019803679842,0.00859...|  0.0|       0.0|\n|25231|  normal|[0.9651976890042367,0.01202...|  0.0|       0.0|\n|10936| hateful|[0.9640574619516394,0.02186...|  3.0|       0.0|\n|43716|  normal|[0.9640451963827754,0.00837...|  0.0|       0.0|\n|50562|  normal|[0.9632788319785722,0.01249...|  0.0|       0.0|\n|99818|  normal|[0.9613782435281926,0.01152...|  0.0|       0.0|\n| 4811|  normal|[0.9589781067769243,0.01187...|  0.0|       0.0|\n|90217|  normal|[0.9580935896835318,0.01793...|  0.0|       0.0|\n|43298|  normal|[0.9577877830282688,0.01722...|  0.0|       0.0|\n|60332|  normal|[0.9577877830282688,0.01722...|  0.0|       0.0|\n|31965|  normal|[0.9562424761236888,0.02967...|  0.0|       0.0|\n|85502|  normal|[0.9561725262550025,0.02019...|  0.0|       0.0|\n|25510|  normal|[0.9554845042550391,0.01888...|  0.0|       0.0|\n|48969|  normal|[0.9544941283634476,0.01103...|  0.0|       0.0|\n|78532|  normal|[0.9539096956974227,0.01793...|  0.0|       0.0|\n+-----+--------+------------------------------+-----+----------+\nonly showing top 20 rows\n\n"
    }
   ],
   "source": [
    "#To train and predict text label using Logistic Regression\n",
    "LogisticRegression_Model = LogisticRegression(maxIter=20, regParam=0.3, elasticNetParam=0)\n",
    "LogisticRegression_Model = LogisticRegression_Model.fit(training)\n",
    "predictions = LogisticRegression_Model.transform(test)\n",
    "predictions.filter(predictions['prediction'] == 0).select(\"id\",\"category\",\"probability\",\"label\",\"prediction\").orderBy(\"probability\", ascending=False).show(n = 20, truncate = 30)"
   ]
  },
  {
   "cell_type": "code",
   "execution_count": 103,
   "metadata": {},
   "outputs": [
    {
     "output_type": "stream",
     "name": "stdout",
     "text": "prediction Score for Logistic Regrassion model is: \n"
    },
    {
     "output_type": "execute_result",
     "data": {
      "text/plain": "0.7474604569740025"
     },
     "metadata": {},
     "execution_count": 103
    }
   ],
   "source": [
    "LogisticRegression_evaluator = MulticlassClassificationEvaluator(predictionCol=\"prediction\")\n",
    "print(\"prediction Score for Logistic Regrassion model is: \")\n",
    "LogisticRegression_evaluator.evaluate(predictions)"
   ]
  },
  {
   "cell_type": "code",
   "execution_count": 109,
   "metadata": {},
   "outputs": [
    {
     "output_type": "stream",
     "name": "stdout",
     "text": "To show prediction for some abusive tweets\n+-----+------------------------------+--------+------------------------------+-----+----------+\n|   id|                      filtered|category|                   probability|label|prediction|\n+-----+------------------------------+--------+------------------------------+-----+----------+\n|88281|[yeah, barrettes, aren, pla...| abusive|[0.4920481358947525,0.49283...|  1.0|       1.0|\n|36399|[damn, maybe, excellent, ap...|  normal|[0.48712826480350646,0.4990...|  0.0|       1.0|\n|91495|[mazzy, parents, need, go, ...|  normal|[0.48086533478628646,0.5011...|  0.0|       1.0|\n|10501|[lutheran, yeah, answer, pe...|  normal|[0.47980794735477234,0.5118...|  0.0|       1.0|\n|14164|[m, point, weight, cut, wai...|  normal|[0.4795949304645206,0.49383...|  0.0|       1.0|\n+-----+------------------------------+--------+------------------------------+-----+----------+\nonly showing top 5 rows\n\nTo show prediction for some hateful tweets\n+-----+------------------------------+--------+------------------------------+-----+----------+\n|   id|                      filtered|category|                   probability|label|prediction|\n+-----+------------------------------+--------+------------------------------+-----+----------+\n|59792|[redflagnews, kremlin, tell...|  normal|[0.4979557746354585,0.00353...|  0.0|       3.0|\n|36100|[president, trump, right, r...|  normal|[0.4958808862415194,1.62899...|  0.0|       3.0|\n|47410|[without, christ, excluded,...|  normal|[0.48869667147463475,0.0098...|  0.0|       3.0|\n|86108|[fact, manifestly, ill, equ...| abusive|[0.48055319568069743,0.0106...|  1.0|       3.0|\n|17606|[wondering, obama, ag, blac...| hateful|[0.47037655097966347,0.0418...|  3.0|       3.0|\n+-----+------------------------------+--------+------------------------------+-----+----------+\nonly showing top 5 rows\n\n"
    }
   ],
   "source": [
    "#To train the Naïve Bayes model on the training dataset\n",
    "NaiveBayes_model = NaiveBayes()\n",
    "NaiveBayes_model = NaiveBayes_model.fit(training)\n",
    "\n",
    "#To perform testing on the test dataset\n",
    "NaiveBayes_predictions = NaiveBayes_model.transform(test)\n",
    "print(\"To show prediction for some abusive tweets\")\n",
    "NaiveBayes_predictions.filter(NaiveBayes_predictions['prediction'] == 1).select(\"id\",\"filtered\",\"category\",\"probability\",\"label\",\"prediction\").orderBy(\"probability\", ascending=False).show(n = 5, truncate = 30)\n",
    "print(\"To show prediction for some hateful tweets\")\n",
    "NaiveBayes_predictions.filter(NaiveBayes_predictions['prediction'] == 3).select(\"id\",\"filtered\",\"category\",\"probability\",\"label\",\"prediction\").orderBy(\"probability\", ascending=False).show(n = 5, truncate = 30)"
   ]
  },
  {
   "cell_type": "code",
   "execution_count": 110,
   "metadata": {},
   "outputs": [
    {
     "output_type": "stream",
     "name": "stdout",
     "text": "Naive Bayes Model Accuracy = 0.7637883576307473\n"
    }
   ],
   "source": [
    "# To evaluate model and compute accuracy on the test set\n",
    "NaiveBayes_model_evaluator = MulticlassClassificationEvaluator(labelCol=\"label\", predictionCol=\"prediction\",\n",
    "                                              metricName=\"accuracy\")\n",
    "accuracy = NaiveBayes_model_evaluator.evaluate(NaiveBayes_predictions)\n",
    "print(\"Naive Bayes Model Accuracy = \" + str(accuracy))"
   ]
  },
  {
   "cell_type": "code",
   "execution_count": 111,
   "metadata": {},
   "outputs": [
    {
     "output_type": "stream",
     "name": "stdout",
     "text": "To show prediction for some abusive tweets\n+-----+------------------------------+--------+------------------------------+-----+----------+\n|   id|                      filtered|category|                   probability|label|prediction|\n+-----+------------------------------+--------+------------------------------+-----+----------+\n|69488|                    [, fucked]| abusive|[0.11568938193343899,0.7667...|  1.0|       1.0|\n|69491|[, people, wanting, dislike...| abusive|[0.11568938193343899,0.7667...|  1.0|       1.0|\n|69512|[, umm, yeah, lmaooooo, ret...| hateful|[0.11568938193343899,0.7667...|  3.0|       1.0|\n|69537|                    [, fucked]| abusive|[0.11568938193343899,0.7667...|  1.0|       1.0|\n|69581|[, 27, 30k, people, retweet...| abusive|[0.11568938193343899,0.7667...|  1.0|       1.0|\n+-----+------------------------------+--------+------------------------------+-----+----------+\nonly showing top 5 rows\n\nTo show prediction for some hateful tweets\n+-----+------------------------------+--------+------------------------------+-----+----------+\n|   id|                      filtered|category|                   probability|label|prediction|\n+-----+------------------------------+--------+------------------------------+-----+----------+\n|92166|[, nigga, beat, yo, fucking...| abusive|[0.029411764705882353,0.294...|  1.0|       3.0|\n|77639|[, guys, season, 3, k, anno...| abusive|[0.029411764705882353,0.294...|  1.0|       3.0|\n|73680|[, gotta, lie, nigga, still...| hateful|[0.029411764705882353,0.294...|  3.0|       3.0|\n|94286|[, magic, y, 14, 16, drinki...| abusive|[0.029411764705882353,0.294...|  1.0|       3.0|\n|96232|[, ever, let, nobody, tell,...| abusive|[0.029411764705882353,0.294...|  1.0|       3.0|\n+-----+------------------------------+--------+------------------------------+-----+----------+\nonly showing top 5 rows\n\nNaive Bayes Model Accuracy = 0.7562952390661637\n"
    }
   ],
   "source": [
    "#To train the Decision Tree model on the training dataset\n",
    "\n",
    "DecisionTree_Model = DecisionTreeClassifier()\n",
    "DecisionTree_Model = DecisionTree_Model.fit(training)\n",
    "#To perform testing on the test dataset\n",
    "DecisionTree_predictions = DecisionTree_Model.transform(test)\n",
    "print(\"To show prediction for some abusive tweets\")\n",
    "DecisionTree_predictions.filter(DecisionTree_predictions['prediction'] == 1).select(\"id\",\"filtered\",\"category\",\"probability\",\"label\",\"prediction\").orderBy(\"probability\", ascending=False).show(n = 5, truncate = 30)\n",
    "print(\"To show prediction for some hateful tweets\")\n",
    "DecisionTree_predictions.filter(DecisionTree_predictions['prediction'] == 3).select(\"id\",\"filtered\",\"category\",\"probability\",\"label\",\"prediction\").orderBy(\"probability\", ascending=False).show(n = 5, truncate = 30)\n",
    "\n",
    "# To evaluate model and compute accuracy on the test set\n",
    "DecisionTree_Model_evaluator = MulticlassClassificationEvaluator(labelCol=\"label\", predictionCol=\"prediction\",\n",
    "                                              metricName=\"accuracy\")\n",
    "accuracy = DecisionTree_Model_evaluator.evaluate(DecisionTree_predictions)\n",
    "print(\"Naive Bayes Model Accuracy = \" + str(accuracy))"
   ]
  },
  {
   "cell_type": "code",
   "execution_count": 123,
   "metadata": {},
   "outputs": [
    {
     "output_type": "stream",
     "name": "stdout",
     "text": "To show prediction for some abusive tweets\n+---+------------------------------+--------+-----+----------+\n| id|                      filtered|category|label|prediction|\n+---+------------------------------+--------+-----+----------+\n| 10|[, fucking, amp, homies, do...| abusive|  1.0|         1|\n| 14|            [spotify, fucking]| abusive|  1.0|         1|\n| 16|[, im, nasty, ass, freak, l...| abusive|  1.0|         1|\n| 20|[ask, contact, picture, see...| abusive|  1.0|         0|\n| 42|[, 100, see, bitches, mad, ...| abusive|  1.0|         1|\n+---+------------------------------+--------+-----+----------+\nonly showing top 5 rows\n\nTo show prediction for some hateful tweets\n+---+------------------------------+--------+-----+----------+\n| id|                      filtered|category|label|prediction|\n+---+------------------------------+--------+-----+----------+\n| 22|[bad, day, kyrgyzstan, susp...| hateful|  3.0|         0|\n| 35|[m, fucking, moon, ve, clea...| hateful|  3.0|         3|\n|246|[adult, sibling, abuse, sur...| hateful|  3.0|         2|\n|353|[give, fuck, none, y, ugly,...| hateful|  3.0|         0|\n|401|[briaplease, jonesy, stupid...| hateful|  3.0|         3|\n+---+------------------------------+--------+-----+----------+\nonly showing top 5 rows\n\nSilhouette with squared euclidean distance = -0.04385671150981694\n"
    }
   ],
   "source": [
    "#Clustring\n",
    "#To train the KMeans model on the training dataset\n",
    "kmeans_model = KMeans().setK(4).setSeed(1)\n",
    "kmeans_model = kmeans_model.fit(training)\n",
    "#To perform testing on the test dataset\n",
    "km_predictions = kmeans_model.transform(test)\n",
    "print(\"To show prediction for some abusive tweets\")\n",
    "km_predictions.filter(km_predictions['label'] == 1).select(\"id\",\"filtered\",\"category\",\"label\",\"prediction\").show(n = 5, truncate = 30)\n",
    "print(\"To show prediction for some hateful tweets\")\n",
    "km_predictions.filter(km_predictions['label'] == 3).select(\"id\",\"filtered\",\"category\",\"label\",\"prediction\").show(n = 5, truncate = 30)\n",
    "\n",
    "# To evaluate model and compute accuracy on the test set\n",
    "# Evaluate clustering by computing Silhouette score\n",
    "evaluate_kmeans_model = ClusteringEvaluator()\n",
    "\n",
    "silhouette = evaluate_kmeans_model.evaluate(km_predictions)\n",
    "print(\"Silhouette with squared euclidean distance = \" + str(silhouette))\n"
   ]
  },
  {
   "cell_type": "code",
   "execution_count": null,
   "metadata": {},
   "outputs": [],
   "source": []
  }
 ],
 "metadata": {
  "language_info": {
   "codemirror_mode": {
    "name": "ipython",
    "version": 3
   },
   "file_extension": ".py",
   "mimetype": "text/x-python",
   "name": "python",
   "nbconvert_exporter": "python",
   "pygments_lexer": "ipython3",
   "version": "3.6.10-final"
  },
  "orig_nbformat": 2,
  "kernelspec": {
   "name": "python361064bitpycondacondabe5a39644e52403d882c62f3ed73be6a",
   "display_name": "Python 3.6.10 64-bit ('pyconda': conda)"
  }
 },
 "nbformat": 4,
 "nbformat_minor": 2
}